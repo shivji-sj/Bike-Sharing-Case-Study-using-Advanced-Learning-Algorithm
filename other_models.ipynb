{
 "cells": [
  {
   "cell_type": "markdown",
   "id": "0348b4d4",
   "metadata": {},
   "source": [
    "### 3. RandomForestRegressor "
   ]
  },
  {
   "cell_type": "code",
   "execution_count": 145,
   "id": "67ec1ab0",
   "metadata": {},
   "outputs": [
    {
     "name": "stdout",
     "output_type": "stream",
     "text": [
      "r2 score on training data = 0.9815947021233771\n",
      "r2_score on test data =  0.9827123936002418\n"
     ]
    }
   ],
   "source": [
    "from sklearn.ensemble import RandomForestRegressor\n",
    "\n",
    "rfr = RandomForestRegressor()\n",
    "rfr.fit(X,y)\n",
    "\n",
    "from sklearn import metrics\n",
    "print(\"r2 score on training data =\", metrics.r2_score(y_true=y_train, y_pred=rfr.predict(X_train), multioutput=\"variance_weighted\"))\n",
    "\n",
    "print(\"r2_score on test data = \", metrics.r2_score(y_test, rfr.predict(X_test), multioutput=\"variance_weighted\"))"
   ]
  },
  {
   "cell_type": "markdown",
   "id": "fb6b1da6",
   "metadata": {},
   "source": [
    "`insight` \n",
    "\n",
    "- It seems to good in all models. The model accuracy is extremely good for train and test data."
   ]
  },
  {
   "cell_type": "markdown",
   "id": "6b5968e6",
   "metadata": {},
   "source": [
    "### 4. DecisionTreeRegressor"
   ]
  },
  {
   "cell_type": "code",
   "execution_count": 146,
   "id": "952c35b6",
   "metadata": {},
   "outputs": [
    {
     "name": "stdout",
     "output_type": "stream",
     "text": [
      "Accuracy of DecisionTreeRegressor on Train :  1.0\n",
      "Accuracy of DecisionTreeRegressor on Test :  0.7495814517282566\n"
     ]
    }
   ],
   "source": [
    "from sklearn.tree import DecisionTreeRegressor\n",
    "\n",
    "dtr = DecisionTreeRegressor()\n",
    "dtr.fit(X_train, y_train)\n",
    "\n",
    "print(\"Accuracy of DecisionTreeRegressor on Train : \", r2_score(y_train, dtr.predict(X_train)))\n",
    "\n",
    "print(\"Accuracy of DecisionTreeRegressor on Test : \", r2_score(y_test, dtr.predict(X_test)))"
   ]
  },
  {
   "cell_type": "markdown",
   "id": "d26198cd",
   "metadata": {},
   "source": [
    "`insight`\n",
    "\n",
    "- This model is not good. because the overfitting is occuring."
   ]
  },
  {
   "cell_type": "markdown",
   "id": "b9545abf",
   "metadata": {},
   "source": [
    "### 5. XGBoost Regressor"
   ]
  },
  {
   "cell_type": "code",
   "execution_count": 147,
   "id": "b346a0b5",
   "metadata": {},
   "outputs": [
    {
     "name": "stdout",
     "output_type": "stream",
     "text": [
      "r2_score on train data by XGboost = 0.9996574181327865\n",
      "r2 score on training data = 0.9996574181327864\n",
      "r2_score on test data =  0.8640564870741744\n"
     ]
    }
   ],
   "source": [
    "from sklearn.model_selection import GridSearchCV\n",
    "from sklearn.metrics import r2_score\n",
    "import xgboost as xgb\n",
    "\n",
    "import xgboost as xbg\n",
    "xgreg = xgb.XGBRegressor()\n",
    "\n",
    "xgreg.fit(X_train, y_train)\n",
    "\n",
    "score = xgreg.score(X_train, y_train)\n",
    "print(\"r2_score on train data by XGboost =\",score)\n",
    "\n",
    "from sklearn import metrics\n",
    "print(\"r2 score on training data =\", metrics.r2_score(y_true=y_train, y_pred=xgreg.predict(X_train), multioutput=\"variance_weighted\"))\n",
    "\n",
    "print(\"r2_score on test data = \", metrics.r2_score(y_test, xgreg.predict(X_test), multioutput=\"variance_weighted\"))"
   ]
  },
  {
   "cell_type": "code",
   "execution_count": null,
   "id": "28623dcf",
   "metadata": {},
   "outputs": [],
   "source": []
  }
 ],
 "metadata": {
  "kernelspec": {
   "display_name": "Python 3 (ipykernel)",
   "language": "python",
   "name": "python3"
  },
  "language_info": {
   "codemirror_mode": {
    "name": "ipython",
    "version": 3
   },
   "file_extension": ".py",
   "mimetype": "text/x-python",
   "name": "python",
   "nbconvert_exporter": "python",
   "pygments_lexer": "ipython3",
   "version": "3.9.7"
  }
 },
 "nbformat": 4,
 "nbformat_minor": 5
}
